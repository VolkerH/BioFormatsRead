{
 "cells": [
  {
   "cell_type": "markdown",
   "metadata": {},
   "source": [
    "# Converting from pixel coordinates in CZI files to stage coordinates\n",
    "\n",
    "This notebook demonstrates how to extract pixel scale and stage position from Zeiss `.czi` files.\n",
    "Using the pixel scale and stage position we build an affine transformation matrix that lets us convert\n",
    "from pixel coordinates in a `.czi` image to absolute stage coordinates using simple matrix multiplication.\n",
    "\n",
    "Volker.Hilsenstein@embl.de Oct 2017"
   ]
  },
  {
   "cell_type": "code",
   "execution_count": 1,
   "metadata": {},
   "outputs": [
    {
     "name": "stderr",
     "output_type": "stream",
     "text": [
      "/Users/volkerhilsenstein/Dropbox/Volker/Work/GitHub/BioFormatsRead/czifile.py:130: UserWarning: failed to import the optional _czifile C extension module.\n",
      "Decoding of JXR and JPEG encoded images will not be available.\n",
      "Czifile.pyx can be obtained at http://www.lfd.uci.edu/~gohlke/\n",
      "  \"failed to import the optional _czifile C extension module.\\n\"\n"
     ]
    }
   ],
   "source": [
    "from czitools import *"
   ]
  },
  {
   "cell_type": "code",
   "execution_count": 2,
   "metadata": {},
   "outputs": [
    {
     "data": {
      "text/plain": [
       "((1, 1, 2208, 2752, 1), b'BCYX0')"
      ]
     },
     "execution_count": 2,
     "metadata": {},
     "output_type": "execute_result"
    }
   ],
   "source": [
    "get_shapeinfo_cziread(\"/Users/volkerhilsenstein/GitLab/zeiss-microbeam-feedback-microscopy/SampleImages/single_capture.czi\")"
   ]
  },
  {
   "cell_type": "code",
   "execution_count": 3,
   "metadata": {},
   "outputs": [
    {
     "data": {
      "text/plain": [
       "((1, 1, 1, 10160, 12661, 1), b'BSCYX0')"
      ]
     },
     "execution_count": 3,
     "metadata": {},
     "output_type": "execute_result"
    }
   ],
   "source": [
    "get_shapeinfo_cziread(\"/Users/volkerhilsenstein/GitLab/zeiss-microbeam-feedback-microscopy/SampleImages/5x5Acqu.czi\")"
   ]
  },
  {
   "cell_type": "code",
   "execution_count": 4,
   "metadata": {},
   "outputs": [
    {
     "data": {
      "text/plain": [
       "'/Users/volkerhilsenstein/Dropbox/Volker/Work/GitHub/BioFormatsRead'"
      ]
     },
     "execution_count": 4,
     "metadata": {},
     "output_type": "execute_result"
    }
   ],
   "source": [
    "pwd"
   ]
  },
  {
   "cell_type": "code",
   "execution_count": 6,
   "metadata": {},
   "outputs": [
    {
     "name": "stdout",
     "output_type": "stream",
     "text": [
      "Write special CZI XML metainformation for:  /Users/volkerhilsenstein/GitLab/zeiss-microbeam-feedback-microscopy/SampleImages/single_capture_CZI_MetaData.xml\n"
     ]
    }
   ],
   "source": [
    "writexml_czi(\"/Users/volkerhilsenstein/GitLab/zeiss-microbeam-feedback-microscopy/SampleImages/single_capture.czi\")"
   ]
  },
  {
   "cell_type": "markdown",
   "metadata": {},
   "source": [
    "To find the stage Position we need to look for this stuff inside the XML metadata\n",
    "\n",
    "```\n",
    "     <ParameterCollection Id=\"MTBStageAxisX\">\n",
    "        <Position Status=\"Valid\" Unit=\"µm\">-102114.5</Position>\n",
    "        <MeasurementPosition Status=\"Valid\">-102114.5</MeasurementPosition>\n",
    "        <IsPrecise Status=\"Valid\">false</IsPrecise>\n",
    "        <AxisSetPositionMode Status=\"Valid\">Default</AxisSetPositionMode>\n",
    "        <Speed Status=\"Valid\">0</Speed>\n",
    "        <ContinualSpeed Status=\"Valid\">37500</ContinualSpeed>\n",
    "        <ContinualAcceleration Status=\"Valid\">0</ContinualAcceleration>\n",
    "        <IsHandwheelDeactivated Status=\"Valid\">false</IsHandwheelDeactivated>\n",
    "        <IsLowerSWLimitEnabled Status=\"Valid\">false</IsLowerSWLimitEnabled>\n",
    "        <LowerSWLimit Status=\"Valid\">0</LowerSWLimit>\n",
    "        <IsUpperSWLimitEnabled Status=\"Valid\">false</IsUpperSWLimitEnabled>\n",
    "        <UpperSWLimit Status=\"Valid\">0</UpperSWLimit>\n",
    "        <AxisCalibrationMode Status=\"Valid\">AutomaticallyCalibrated</AxisCalibrationMode>\n",
    "      </ParameterCollection>\n",
    "      <ParameterCollection Id=\"MTBStageAxisY\">\n",
    "        <Position Status=\"Valid\" Unit=\"µm\">-37692</Position>\n",
    "        <MeasurementPosition Status=\"Valid\">-37692</MeasurementPosition>\n",
    "        <IsPrecise Status=\"Valid\">false</IsPrecise>\n",
    "        <AxisSetPositionMode Status=\"Valid\">Default</AxisSetPositionMode>\n",
    "        <Speed Status=\"Valid\">0</Speed>\n",
    "\n",
    "```\n"
   ]
  },
  {
   "cell_type": "code",
   "execution_count": 123,
   "metadata": {
    "collapsed": true
   },
   "outputs": [],
   "source": [
    "def get_metainfo_cziread_scaling(filename):\n",
    "    # define default values in case something is missing inside the metadata\n",
    "    xscale = np.NaN\n",
    "    yscale = np.NaN\n",
    "    xunit = \"n.a.\"\n",
    "    yunit = \"n.a.\"\n",
    "    xpos = (np.NaN, \"n.a.\")\n",
    "    ypos = (np.NaN, \"n.a.\")\n",
    "\n",
    "    try:\n",
    "        czi = CziFile(filename)\n",
    "\n",
    "        # Iterate over the metadata\n",
    "        for elem in czi.metadata.getiterator():\n",
    "            if 'Distance' in elem.tag or 'Scaling' in elem.tag:\n",
    "                if repr(elem.attrib) == \"{'Id': 'X'}\":\n",
    "                    xscale = float(elem.getchildren()[0].text)\n",
    "                    xunit = elem.getchildren()[1].text\n",
    "                if repr(elem.attrib) == \"{'Id': 'Y'}\":\n",
    "                    yscale = float(elem.getchildren()[0].text)\n",
    "                    yunit = elem.getchildren()[1].text\n",
    "            \n",
    "            if 'ParameterCollection' in elem.tag:\n",
    "                if \"MTBStageAxis\" in elem.attrib['Id']:\n",
    "                    children = elem.getchildren()\n",
    "                    for c in children:\n",
    "                        if c.tag == 'Position':\n",
    "                            axispos = c.text\n",
    "                            unit = c.attrib['Unit']\n",
    "                        if 'X' in elem.attrib['Id']:\n",
    "                            xpos = (float(axispos), unit)\n",
    "                        elif 'Y'in elem.attrib['Id']:\n",
    "                            ypos = (float(axispos), unit)\n",
    "        czi.close()\n",
    "    except:\n",
    "        print('czifile.py did not detect an CZI file.')\n",
    "\n",
    "    return (xscale, xunit), (yscale, yunit), xpos, ypos\n",
    "    \n"
   ]
  },
  {
   "cell_type": "code",
   "execution_count": 124,
   "metadata": {
    "collapsed": true
   },
   "outputs": [],
   "source": [
    "elem = get_metainfo_cziread_scaling(\"/Users/volkerhilsenstein/GitLab/zeiss-microbeam-feedback-microscopy/SampleImages/5x5Acqu.czi\")"
   ]
  },
  {
   "cell_type": "markdown",
   "metadata": {},
   "source": [
    "# Bug in CZI Metadata: Note that unit reported for scale is _µm_ but actual value  of order e-07 indicated it is in fact _m_"
   ]
  },
  {
   "cell_type": "code",
   "execution_count": 125,
   "metadata": {},
   "outputs": [
    {
     "data": {
      "text/plain": [
       "((1.135e-07, 'µm'), (1.135e-07, 'µm'), (-102114.5, 'µm'), (-37691.8, 'µm'))"
      ]
     },
     "execution_count": 125,
     "metadata": {},
     "output_type": "execute_result"
    }
   ],
   "source": [
    "elem"
   ]
  },
  {
   "cell_type": "markdown",
   "metadata": {
    "collapsed": true
   },
   "source": [
    "# simple matrix multiplication in numpy"
   ]
  },
  {
   "cell_type": "code",
   "execution_count": 93,
   "metadata": {},
   "outputs": [
    {
     "name": "stdout",
     "output_type": "stream",
     "text": [
      "[16  6  8]\n"
     ]
    }
   ],
   "source": [
    "# matrix times vector\n",
    "import numpy as np\n",
    "a = np.array([[ 5, 1 ,3], \n",
    "                  [ 1, 1 ,1], \n",
    "                  [ 1, 2 ,1]])\n",
    "b = np.array([1, 2, 3])\n",
    "print (a.dot(b.transpose()))"
   ]
  },
  {
   "cell_type": "code",
   "execution_count": 95,
   "metadata": {},
   "outputs": [
    {
     "name": "stdout",
     "output_type": "stream",
     "text": [
      "[[16  6  8]\n",
      " [16  6  8]]\n"
     ]
    }
   ],
   "source": [
    "# matrix times matrix (multiple vectors stacked)\n",
    "import numpy as np\n",
    "a = np.array([[ 5, 1 ,3], \n",
    "                  [ 1, 1 ,1], \n",
    "                  [ 1, 2 ,1]])\n",
    "b = np.array([[1, 2, 3], [1,2,3]])\n",
    "print (a.dot(b.transpose()).transpose())"
   ]
  },
  {
   "cell_type": "code",
   "execution_count": 97,
   "metadata": {},
   "outputs": [
    {
     "data": {
      "text/plain": [
       "array([[16, 16],\n",
       "       [ 6,  6],\n",
       "       [ 8,  8]])"
      ]
     },
     "execution_count": 97,
     "metadata": {},
     "output_type": "execute_result"
    }
   ],
   "source": [
    "# Alternative syntax, but only works for Python >= 3.5\n",
    "a @ b.transpose()\n"
   ]
  },
  {
   "cell_type": "markdown",
   "metadata": {},
   "source": [
    "# Build affine transformation matrix to translate  from czi file"
   ]
  },
  {
   "cell_type": "code",
   "execution_count": 126,
   "metadata": {},
   "outputs": [],
   "source": [
    "imagefileczi = \"/Users/volkerhilsenstein/GitLab/zeiss-microbeam-feedback-microscopy/SampleImages/5x5Acqu.czi\"\n",
    "# get nx, ny\n",
    "n_ax, axs = get_shapeinfo_cziread(imagefileczi)\n",
    "nx = n_ax[axs.index(b'X')]\n",
    "ny = n_ax[axs.index(b'Y')]\n",
    "# get scale and stage position\n",
    "xscale, yscale, xpos, ypos = get_metainfo_cziread_scaling(imagefileczi)\n",
    "\n"
   ]
  },
  {
   "cell_type": "code",
   "execution_count": 127,
   "metadata": {},
   "outputs": [
    {
     "data": {
      "text/plain": [
       "((1.135e-07, 'µm'), (1.135e-07, 'µm'))"
      ]
     },
     "execution_count": 127,
     "metadata": {},
     "output_type": "execute_result"
    }
   ],
   "source": [
    "xscale, yscale"
   ]
  },
  {
   "cell_type": "code",
   "execution_count": 149,
   "metadata": {},
   "outputs": [],
   "source": [
    "mapping = np.array([[ xscale[0],    0 ,xpos[0] * 10**-6 -xscale[0]*nx/2.0], \n",
    "                    [ 0, yscale[0],ypos[0] * 10**-6 -yscale[0]*ny/2.0]])"
   ]
  },
  {
   "cell_type": "code",
   "execution_count": 150,
   "metadata": {},
   "outputs": [
    {
     "data": {
      "text/plain": [
       "array([[  1.13500000e-07,   0.00000000e+00,  -1.02833012e-01],\n",
       "       [  0.00000000e+00,   1.13500000e-07,  -3.82683800e-02]])"
      ]
     },
     "execution_count": 150,
     "metadata": {},
     "output_type": "execute_result"
    }
   ],
   "source": [
    "mapping\n"
   ]
  },
  {
   "cell_type": "code",
   "execution_count": 152,
   "metadata": {},
   "outputs": [
    {
     "data": {
      "text/plain": [
       "array([-0.1021145, -0.0376918])"
      ]
     },
     "execution_count": 152,
     "metadata": {},
     "output_type": "execute_result"
    }
   ],
   "source": [
    "mapping @np.array((nx/2, ny/2, 1.0))\n"
   ]
  },
  {
   "cell_type": "code",
   "execution_count": 155,
   "metadata": {},
   "outputs": [
    {
     "data": {
      "text/plain": [
       "array([[-0.10282166, -0.10281031],\n",
       "       [-0.03825703, -0.03824568]])"
      ]
     },
     "execution_count": 155,
     "metadata": {},
     "output_type": "execute_result"
    }
   ],
   "source": [
    "mapping @np.array([[100, 100, 1.0], [200,200, 1]]).transpose()"
   ]
  },
  {
   "cell_type": "code",
   "execution_count": null,
   "metadata": {
    "collapsed": true
   },
   "outputs": [],
   "source": []
  }
 ],
 "metadata": {
  "kernelspec": {
   "display_name": "Python 3",
   "language": "python",
   "name": "python3"
  },
  "language_info": {
   "codemirror_mode": {
    "name": "ipython",
    "version": 3
   },
   "file_extension": ".py",
   "mimetype": "text/x-python",
   "name": "python",
   "nbconvert_exporter": "python",
   "pygments_lexer": "ipython3",
   "version": "3.6.0"
  }
 },
 "nbformat": 4,
 "nbformat_minor": 2
}
